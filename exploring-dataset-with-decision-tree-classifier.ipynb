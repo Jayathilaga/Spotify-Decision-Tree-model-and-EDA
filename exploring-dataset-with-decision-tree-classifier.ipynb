{
 "cells": [
  {
   "cell_type": "code",
   "execution_count": 1,
   "id": "fd3b8317",
   "metadata": {
    "_cell_guid": "b1076dfc-b9ad-4769-8c92-a6c4dae69d19",
    "_uuid": "8f2839f25d086af736a60e9eeb907d3b93b6e0e5",
    "execution": {
     "iopub.execute_input": "2023-01-02T03:01:51.027951Z",
     "iopub.status.busy": "2023-01-02T03:01:51.026973Z",
     "iopub.status.idle": "2023-01-02T03:01:51.045842Z",
     "shell.execute_reply": "2023-01-02T03:01:51.044702Z"
    },
    "papermill": {
     "duration": 0.031499,
     "end_time": "2023-01-02T03:01:51.049268",
     "exception": false,
     "start_time": "2023-01-02T03:01:51.017769",
     "status": "completed"
    },
    "tags": []
   },
   "outputs": [
    {
     "name": "stdout",
     "output_type": "stream",
     "text": [
      "/kaggle/input/spotifyclassification/data.csv\n"
     ]
    }
   ],
   "source": [
    "# This Python 3 environment comes with many helpful analytics libraries installed\n",
    "# It is defined by the kaggle/python Docker image: https://github.com/kaggle/docker-python\n",
    "# For example, here's several helpful packages to load\n",
    "\n",
    "import numpy as np # linear algebra\n",
    "import pandas as pd # data processing, CSV file I/O (e.g. pd.read_csv)\n",
    "\n",
    "# Input data files are available in the read-only \"../input/\" directory\n",
    "# For example, running this (by clicking run or pressing Shift+Enter) will list all files under the input directory\n",
    "\n",
    "import os\n",
    "for dirname, _, filenames in os.walk('/kaggle/input'):\n",
    "    for filename in filenames:\n",
    "        print(os.path.join(dirname, filename))\n",
    "\n",
    "# You can write up to 20GB to the current directory (/kaggle/working/) that gets preserved as output when you create a version using \"Save & Run All\" \n",
    "# You can also write temporary files to /kaggle/temp/, but they won't be saved outside of the current session"
   ]
  },
  {
   "cell_type": "code",
   "execution_count": 2,
   "id": "b6dad203",
   "metadata": {
    "execution": {
     "iopub.execute_input": "2023-01-02T03:01:51.063817Z",
     "iopub.status.busy": "2023-01-02T03:01:51.063108Z",
     "iopub.status.idle": "2023-01-02T03:01:51.125744Z",
     "shell.execute_reply": "2023-01-02T03:01:51.124690Z"
    },
    "papermill": {
     "duration": 0.072977,
     "end_time": "2023-01-02T03:01:51.128857",
     "exception": false,
     "start_time": "2023-01-02T03:01:51.055880",
     "status": "completed"
    },
    "tags": []
   },
   "outputs": [
    {
     "data": {
      "text/html": [
       "<div>\n",
       "<style scoped>\n",
       "    .dataframe tbody tr th:only-of-type {\n",
       "        vertical-align: middle;\n",
       "    }\n",
       "\n",
       "    .dataframe tbody tr th {\n",
       "        vertical-align: top;\n",
       "    }\n",
       "\n",
       "    .dataframe thead th {\n",
       "        text-align: right;\n",
       "    }\n",
       "</style>\n",
       "<table border=\"1\" class=\"dataframe\">\n",
       "  <thead>\n",
       "    <tr style=\"text-align: right;\">\n",
       "      <th></th>\n",
       "      <th>acousticness</th>\n",
       "      <th>danceability</th>\n",
       "      <th>duration_ms</th>\n",
       "      <th>energy</th>\n",
       "      <th>instrumentalness</th>\n",
       "      <th>key</th>\n",
       "      <th>liveness</th>\n",
       "      <th>loudness</th>\n",
       "      <th>mode</th>\n",
       "      <th>speechiness</th>\n",
       "      <th>tempo</th>\n",
       "      <th>time_signature</th>\n",
       "      <th>valence</th>\n",
       "      <th>target</th>\n",
       "      <th>song_title</th>\n",
       "      <th>artist</th>\n",
       "    </tr>\n",
       "  </thead>\n",
       "  <tbody>\n",
       "    <tr>\n",
       "      <th>0</th>\n",
       "      <td>0.0102</td>\n",
       "      <td>0.833</td>\n",
       "      <td>204600</td>\n",
       "      <td>0.434</td>\n",
       "      <td>0.021900</td>\n",
       "      <td>2</td>\n",
       "      <td>0.1650</td>\n",
       "      <td>-8.795</td>\n",
       "      <td>1</td>\n",
       "      <td>0.4310</td>\n",
       "      <td>150.062</td>\n",
       "      <td>4.0</td>\n",
       "      <td>0.286</td>\n",
       "      <td>1</td>\n",
       "      <td>Mask Off</td>\n",
       "      <td>Future</td>\n",
       "    </tr>\n",
       "    <tr>\n",
       "      <th>1</th>\n",
       "      <td>0.1990</td>\n",
       "      <td>0.743</td>\n",
       "      <td>326933</td>\n",
       "      <td>0.359</td>\n",
       "      <td>0.006110</td>\n",
       "      <td>1</td>\n",
       "      <td>0.1370</td>\n",
       "      <td>-10.401</td>\n",
       "      <td>1</td>\n",
       "      <td>0.0794</td>\n",
       "      <td>160.083</td>\n",
       "      <td>4.0</td>\n",
       "      <td>0.588</td>\n",
       "      <td>1</td>\n",
       "      <td>Redbone</td>\n",
       "      <td>Childish Gambino</td>\n",
       "    </tr>\n",
       "    <tr>\n",
       "      <th>2</th>\n",
       "      <td>0.0344</td>\n",
       "      <td>0.838</td>\n",
       "      <td>185707</td>\n",
       "      <td>0.412</td>\n",
       "      <td>0.000234</td>\n",
       "      <td>2</td>\n",
       "      <td>0.1590</td>\n",
       "      <td>-7.148</td>\n",
       "      <td>1</td>\n",
       "      <td>0.2890</td>\n",
       "      <td>75.044</td>\n",
       "      <td>4.0</td>\n",
       "      <td>0.173</td>\n",
       "      <td>1</td>\n",
       "      <td>Xanny Family</td>\n",
       "      <td>Future</td>\n",
       "    </tr>\n",
       "    <tr>\n",
       "      <th>3</th>\n",
       "      <td>0.6040</td>\n",
       "      <td>0.494</td>\n",
       "      <td>199413</td>\n",
       "      <td>0.338</td>\n",
       "      <td>0.510000</td>\n",
       "      <td>5</td>\n",
       "      <td>0.0922</td>\n",
       "      <td>-15.236</td>\n",
       "      <td>1</td>\n",
       "      <td>0.0261</td>\n",
       "      <td>86.468</td>\n",
       "      <td>4.0</td>\n",
       "      <td>0.230</td>\n",
       "      <td>1</td>\n",
       "      <td>Master Of None</td>\n",
       "      <td>Beach House</td>\n",
       "    </tr>\n",
       "    <tr>\n",
       "      <th>4</th>\n",
       "      <td>0.1800</td>\n",
       "      <td>0.678</td>\n",
       "      <td>392893</td>\n",
       "      <td>0.561</td>\n",
       "      <td>0.512000</td>\n",
       "      <td>5</td>\n",
       "      <td>0.4390</td>\n",
       "      <td>-11.648</td>\n",
       "      <td>0</td>\n",
       "      <td>0.0694</td>\n",
       "      <td>174.004</td>\n",
       "      <td>4.0</td>\n",
       "      <td>0.904</td>\n",
       "      <td>1</td>\n",
       "      <td>Parallel Lines</td>\n",
       "      <td>Junior Boys</td>\n",
       "    </tr>\n",
       "  </tbody>\n",
       "</table>\n",
       "</div>"
      ],
      "text/plain": [
       "   acousticness  danceability  duration_ms  energy  instrumentalness  key  \\\n",
       "0        0.0102         0.833       204600   0.434          0.021900    2   \n",
       "1        0.1990         0.743       326933   0.359          0.006110    1   \n",
       "2        0.0344         0.838       185707   0.412          0.000234    2   \n",
       "3        0.6040         0.494       199413   0.338          0.510000    5   \n",
       "4        0.1800         0.678       392893   0.561          0.512000    5   \n",
       "\n",
       "   liveness  loudness  mode  speechiness    tempo  time_signature  valence  \\\n",
       "0    0.1650    -8.795     1       0.4310  150.062             4.0    0.286   \n",
       "1    0.1370   -10.401     1       0.0794  160.083             4.0    0.588   \n",
       "2    0.1590    -7.148     1       0.2890   75.044             4.0    0.173   \n",
       "3    0.0922   -15.236     1       0.0261   86.468             4.0    0.230   \n",
       "4    0.4390   -11.648     0       0.0694  174.004             4.0    0.904   \n",
       "\n",
       "   target      song_title            artist  \n",
       "0       1        Mask Off            Future  \n",
       "1       1         Redbone  Childish Gambino  \n",
       "2       1    Xanny Family            Future  \n",
       "3       1  Master Of None       Beach House  \n",
       "4       1  Parallel Lines       Junior Boys  "
      ]
     },
     "execution_count": 2,
     "metadata": {},
     "output_type": "execute_result"
    }
   ],
   "source": [
    "spotify_df = pd.read_csv(r\"/kaggle/input/spotifyclassification/data.csv\")\n",
    "spotify_df=spotify_df.drop(columns=['Unnamed: 0'])\n",
    "spotify_df.head()"
   ]
  },
  {
   "cell_type": "code",
   "execution_count": 3,
   "id": "16531e80",
   "metadata": {
    "execution": {
     "iopub.execute_input": "2023-01-02T03:01:51.150045Z",
     "iopub.status.busy": "2023-01-02T03:01:51.149663Z",
     "iopub.status.idle": "2023-01-02T03:01:52.154754Z",
     "shell.execute_reply": "2023-01-02T03:01:52.153802Z"
    },
    "papermill": {
     "duration": 1.018398,
     "end_time": "2023-01-02T03:01:52.157180",
     "exception": false,
     "start_time": "2023-01-02T03:01:51.138782",
     "status": "completed"
    },
    "tags": []
   },
   "outputs": [],
   "source": [
    "import re\n",
    "import sys\n",
    "from hashlib import sha1\n",
    "\n",
    "from IPython.display import Image\n",
    "\n",
    "import graphviz\n",
    "import matplotlib.pyplot as plt\n",
    "import numpy as np\n",
    "import pandas as pd\n",
    "from sklearn.dummy import DummyClassifier\n",
    "from sklearn.model_selection import cross_val_score, cross_validate, train_test_split\n",
    "from sklearn.tree import DecisionTreeClassifier, export_graphviz\n",
    "\n",
    "train_df, test_df = train_test_split(spotify_df, test_size=0.2, random_state=123)"
   ]
  },
  {
   "cell_type": "code",
   "execution_count": 4,
   "id": "a48113e2",
   "metadata": {
    "execution": {
     "iopub.execute_input": "2023-01-02T03:01:52.171687Z",
     "iopub.status.busy": "2023-01-02T03:01:52.170758Z",
     "iopub.status.idle": "2023-01-02T03:01:52.177444Z",
     "shell.execute_reply": "2023-01-02T03:01:52.176546Z"
    },
    "papermill": {
     "duration": 0.016389,
     "end_time": "2023-01-02T03:01:52.179799",
     "exception": false,
     "start_time": "2023-01-02T03:01:52.163410",
     "status": "completed"
    },
    "tags": []
   },
   "outputs": [
    {
     "data": {
      "text/plain": [
       "(1613, 404)"
      ]
     },
     "execution_count": 4,
     "metadata": {},
     "output_type": "execute_result"
    }
   ],
   "source": [
    "len(train_df), len(test_df)"
   ]
  },
  {
   "cell_type": "code",
   "execution_count": 5,
   "id": "05e40825",
   "metadata": {
    "execution": {
     "iopub.execute_input": "2023-01-02T03:01:52.193899Z",
     "iopub.status.busy": "2023-01-02T03:01:52.192987Z",
     "iopub.status.idle": "2023-01-02T03:01:52.247865Z",
     "shell.execute_reply": "2023-01-02T03:01:52.246670Z"
    },
    "papermill": {
     "duration": 0.064332,
     "end_time": "2023-01-02T03:01:52.250157",
     "exception": false,
     "start_time": "2023-01-02T03:01:52.185825",
     "status": "completed"
    },
    "tags": []
   },
   "outputs": [
    {
     "data": {
      "text/html": [
       "<div>\n",
       "<style scoped>\n",
       "    .dataframe tbody tr th:only-of-type {\n",
       "        vertical-align: middle;\n",
       "    }\n",
       "\n",
       "    .dataframe tbody tr th {\n",
       "        vertical-align: top;\n",
       "    }\n",
       "\n",
       "    .dataframe thead th {\n",
       "        text-align: right;\n",
       "    }\n",
       "</style>\n",
       "<table border=\"1\" class=\"dataframe\">\n",
       "  <thead>\n",
       "    <tr style=\"text-align: right;\">\n",
       "      <th></th>\n",
       "      <th>acousticness</th>\n",
       "      <th>danceability</th>\n",
       "      <th>duration_ms</th>\n",
       "      <th>energy</th>\n",
       "      <th>instrumentalness</th>\n",
       "      <th>key</th>\n",
       "      <th>liveness</th>\n",
       "      <th>loudness</th>\n",
       "      <th>mode</th>\n",
       "      <th>speechiness</th>\n",
       "      <th>tempo</th>\n",
       "      <th>time_signature</th>\n",
       "      <th>valence</th>\n",
       "      <th>target</th>\n",
       "    </tr>\n",
       "  </thead>\n",
       "  <tbody>\n",
       "    <tr>\n",
       "      <th>count</th>\n",
       "      <td>1613.000000</td>\n",
       "      <td>1613.000000</td>\n",
       "      <td>1613.000000</td>\n",
       "      <td>1613.000000</td>\n",
       "      <td>1613.000000</td>\n",
       "      <td>1613.000000</td>\n",
       "      <td>1613.000000</td>\n",
       "      <td>1613.000000</td>\n",
       "      <td>1613.000000</td>\n",
       "      <td>1613.000000</td>\n",
       "      <td>1613.000000</td>\n",
       "      <td>1613.000000</td>\n",
       "      <td>1613.000000</td>\n",
       "      <td>1613.000000</td>\n",
       "    </tr>\n",
       "    <tr>\n",
       "      <th>mean</th>\n",
       "      <td>0.185627</td>\n",
       "      <td>0.616745</td>\n",
       "      <td>247114.827650</td>\n",
       "      <td>0.681296</td>\n",
       "      <td>0.136862</td>\n",
       "      <td>5.383137</td>\n",
       "      <td>0.189189</td>\n",
       "      <td>-7.112929</td>\n",
       "      <td>0.621203</td>\n",
       "      <td>0.091277</td>\n",
       "      <td>121.979777</td>\n",
       "      <td>3.964662</td>\n",
       "      <td>0.497587</td>\n",
       "      <td>0.507750</td>\n",
       "    </tr>\n",
       "    <tr>\n",
       "      <th>std</th>\n",
       "      <td>0.259324</td>\n",
       "      <td>0.163225</td>\n",
       "      <td>81177.300308</td>\n",
       "      <td>0.211612</td>\n",
       "      <td>0.277744</td>\n",
       "      <td>3.620422</td>\n",
       "      <td>0.153170</td>\n",
       "      <td>3.838867</td>\n",
       "      <td>0.485238</td>\n",
       "      <td>0.087890</td>\n",
       "      <td>26.965641</td>\n",
       "      <td>0.255201</td>\n",
       "      <td>0.247378</td>\n",
       "      <td>0.500095</td>\n",
       "    </tr>\n",
       "    <tr>\n",
       "      <th>min</th>\n",
       "      <td>0.000005</td>\n",
       "      <td>0.122000</td>\n",
       "      <td>16042.000000</td>\n",
       "      <td>0.014800</td>\n",
       "      <td>0.000000</td>\n",
       "      <td>0.000000</td>\n",
       "      <td>0.018800</td>\n",
       "      <td>-33.097000</td>\n",
       "      <td>0.000000</td>\n",
       "      <td>0.023100</td>\n",
       "      <td>47.859000</td>\n",
       "      <td>1.000000</td>\n",
       "      <td>0.035900</td>\n",
       "      <td>0.000000</td>\n",
       "    </tr>\n",
       "    <tr>\n",
       "      <th>25%</th>\n",
       "      <td>0.009190</td>\n",
       "      <td>0.511000</td>\n",
       "      <td>200105.000000</td>\n",
       "      <td>0.564000</td>\n",
       "      <td>0.000000</td>\n",
       "      <td>2.000000</td>\n",
       "      <td>0.092300</td>\n",
       "      <td>-8.388000</td>\n",
       "      <td>0.000000</td>\n",
       "      <td>0.037300</td>\n",
       "      <td>100.518000</td>\n",
       "      <td>4.000000</td>\n",
       "      <td>0.295000</td>\n",
       "      <td>0.000000</td>\n",
       "    </tr>\n",
       "    <tr>\n",
       "      <th>50%</th>\n",
       "      <td>0.062500</td>\n",
       "      <td>0.629000</td>\n",
       "      <td>230200.000000</td>\n",
       "      <td>0.714000</td>\n",
       "      <td>0.000071</td>\n",
       "      <td>6.000000</td>\n",
       "      <td>0.127000</td>\n",
       "      <td>-6.248000</td>\n",
       "      <td>1.000000</td>\n",
       "      <td>0.054900</td>\n",
       "      <td>121.990000</td>\n",
       "      <td>4.000000</td>\n",
       "      <td>0.496000</td>\n",
       "      <td>1.000000</td>\n",
       "    </tr>\n",
       "    <tr>\n",
       "      <th>75%</th>\n",
       "      <td>0.251000</td>\n",
       "      <td>0.738000</td>\n",
       "      <td>272533.000000</td>\n",
       "      <td>0.844000</td>\n",
       "      <td>0.057300</td>\n",
       "      <td>9.000000</td>\n",
       "      <td>0.243000</td>\n",
       "      <td>-4.791000</td>\n",
       "      <td>1.000000</td>\n",
       "      <td>0.107000</td>\n",
       "      <td>137.932000</td>\n",
       "      <td>4.000000</td>\n",
       "      <td>0.690000</td>\n",
       "      <td>1.000000</td>\n",
       "    </tr>\n",
       "    <tr>\n",
       "      <th>max</th>\n",
       "      <td>0.995000</td>\n",
       "      <td>0.984000</td>\n",
       "      <td>849960.000000</td>\n",
       "      <td>0.997000</td>\n",
       "      <td>0.976000</td>\n",
       "      <td>11.000000</td>\n",
       "      <td>0.969000</td>\n",
       "      <td>-0.307000</td>\n",
       "      <td>1.000000</td>\n",
       "      <td>0.816000</td>\n",
       "      <td>219.331000</td>\n",
       "      <td>5.000000</td>\n",
       "      <td>0.992000</td>\n",
       "      <td>1.000000</td>\n",
       "    </tr>\n",
       "  </tbody>\n",
       "</table>\n",
       "</div>"
      ],
      "text/plain": [
       "       acousticness  danceability    duration_ms       energy  \\\n",
       "count   1613.000000   1613.000000    1613.000000  1613.000000   \n",
       "mean       0.185627      0.616745  247114.827650     0.681296   \n",
       "std        0.259324      0.163225   81177.300308     0.211612   \n",
       "min        0.000005      0.122000   16042.000000     0.014800   \n",
       "25%        0.009190      0.511000  200105.000000     0.564000   \n",
       "50%        0.062500      0.629000  230200.000000     0.714000   \n",
       "75%        0.251000      0.738000  272533.000000     0.844000   \n",
       "max        0.995000      0.984000  849960.000000     0.997000   \n",
       "\n",
       "       instrumentalness          key     liveness     loudness         mode  \\\n",
       "count       1613.000000  1613.000000  1613.000000  1613.000000  1613.000000   \n",
       "mean           0.136862     5.383137     0.189189    -7.112929     0.621203   \n",
       "std            0.277744     3.620422     0.153170     3.838867     0.485238   \n",
       "min            0.000000     0.000000     0.018800   -33.097000     0.000000   \n",
       "25%            0.000000     2.000000     0.092300    -8.388000     0.000000   \n",
       "50%            0.000071     6.000000     0.127000    -6.248000     1.000000   \n",
       "75%            0.057300     9.000000     0.243000    -4.791000     1.000000   \n",
       "max            0.976000    11.000000     0.969000    -0.307000     1.000000   \n",
       "\n",
       "       speechiness        tempo  time_signature      valence       target  \n",
       "count  1613.000000  1613.000000     1613.000000  1613.000000  1613.000000  \n",
       "mean      0.091277   121.979777        3.964662     0.497587     0.507750  \n",
       "std       0.087890    26.965641        0.255201     0.247378     0.500095  \n",
       "min       0.023100    47.859000        1.000000     0.035900     0.000000  \n",
       "25%       0.037300   100.518000        4.000000     0.295000     0.000000  \n",
       "50%       0.054900   121.990000        4.000000     0.496000     1.000000  \n",
       "75%       0.107000   137.932000        4.000000     0.690000     1.000000  \n",
       "max       0.816000   219.331000        5.000000     0.992000     1.000000  "
      ]
     },
     "execution_count": 5,
     "metadata": {},
     "output_type": "execute_result"
    }
   ],
   "source": [
    "spotify_summary = train_df.describe()\n",
    "spotify_summary"
   ]
  },
  {
   "cell_type": "code",
   "execution_count": 6,
   "id": "6568f12e",
   "metadata": {
    "execution": {
     "iopub.execute_input": "2023-01-02T03:01:52.264405Z",
     "iopub.status.busy": "2023-01-02T03:01:52.264024Z",
     "iopub.status.idle": "2023-01-02T03:01:52.272341Z",
     "shell.execute_reply": "2023-01-02T03:01:52.271217Z"
    },
    "papermill": {
     "duration": 0.017902,
     "end_time": "2023-01-02T03:01:52.274472",
     "exception": false,
     "start_time": "2023-01-02T03:01:52.256570",
     "status": "completed"
    },
    "tags": []
   },
   "outputs": [
    {
     "data": {
      "text/plain": [
       "'duration_ms'"
      ]
     },
     "execution_count": 6,
     "metadata": {},
     "output_type": "execute_result"
    }
   ],
   "source": [
    "range_value = spotify_summary.loc['max',:]-spotify_summary.loc['min',:]\n",
    "largest_range_feature = range_value[range_value == range_value.max()].index[0]\n",
    "largest_range_feature "
   ]
  },
  {
   "cell_type": "code",
   "execution_count": 7,
   "id": "33ad50e2",
   "metadata": {
    "execution": {
     "iopub.execute_input": "2023-01-02T03:01:52.288870Z",
     "iopub.status.busy": "2023-01-02T03:01:52.288547Z",
     "iopub.status.idle": "2023-01-02T03:01:52.749876Z",
     "shell.execute_reply": "2023-01-02T03:01:52.748690Z"
    },
    "papermill": {
     "duration": 0.471528,
     "end_time": "2023-01-02T03:01:52.752423",
     "exception": false,
     "start_time": "2023-01-02T03:01:52.280895",
     "status": "completed"
    },
    "tags": []
   },
   "outputs": [
    {
     "data": {
      "image/png": "[encoded data removed]",
      "text/plain": [
       "<Figure size 432x288 with 1 Axes>"
      ]
     },
     "metadata": {
      "needs_background": "light"
     },
     "output_type": "display_data"
    }
   ],
   "source": [
    "feat = \"loudness\"\n",
    "train_df.groupby(\"target\")[feat].plot.hist(bins=50, alpha=0.5, legend=True, title = \"Histogram of \" + feat);\n",
    "plt.xlabel(feat);"
   ]
  },
  {
   "cell_type": "code",
   "execution_count": 8,
   "id": "5af7494f",
   "metadata": {
    "execution": {
     "iopub.execute_input": "2023-01-02T03:01:52.769731Z",
     "iopub.status.busy": "2023-01-02T03:01:52.768847Z",
     "iopub.status.idle": "2023-01-02T03:01:55.003867Z",
     "shell.execute_reply": "2023-01-02T03:01:55.002556Z"
    },
    "papermill": {
     "duration": 2.247068,
     "end_time": "2023-01-02T03:01:55.006406",
     "exception": false,
     "start_time": "2023-01-02T03:01:52.759338",
     "status": "completed"
    },
    "tags": []
   },
   "outputs": [
    {
     "data": {
      "image/png": "[encoded data removed]",
      "text/plain": [
       "<Figure size 432x288 with 1 Axes>"
      ]
     },
     "metadata": {
      "needs_background": "light"
     },
     "output_type": "display_data"
    },
    {
     "data": {
      "image/png": "[encoded data removed]",
      "text/plain": [
       "<Figure size 432x288 with 1 Axes>"
      ]
     },
     "metadata": {
      "needs_background": "light"
     },
     "output_type": "display_data"
    },
    {
     "data": {
      "image/png": "[encoded data removed]",
      "text/plain": [
       "<Figure size 432x288 with 1 Axes>"
      ]
     },
     "metadata": {
      "needs_background": "light"
     },
     "output_type": "display_data"
    },
    {
     "data": {
      "image/png": "[encoded data removed]",
      "text/plain": [
       "<Figure size 432x288 with 1 Axes>"
      ]
     },
     "metadata": {
      "needs_background": "light"
     },
     "output_type": "display_data"
    },
    {
     "data": {
      "image/png": "[encoded data removed]",
      "text/plain": [
       "<Figure size 432x288 with 1 Axes>"
      ]
     },
     "metadata": {
      "needs_background": "light"
     },
     "output_type": "display_data"
    }
   ],
   "source": [
    "column_hist = ['acousticness','danceability','tempo','energy','valence']\n",
    "for i in column_hist:\n",
    "    feat = i\n",
    "    train_df.groupby(\"target\")[feat].plot.hist(bins=50, alpha=0.5, legend=True, title = \"Histogram of \" + feat);\n",
    "    plt.xlabel(feat);\n",
    "    plt.show()"
   ]
  },
  {
   "cell_type": "code",
   "execution_count": 9,
   "id": "bf1514a8",
   "metadata": {
    "execution": {
     "iopub.execute_input": "2023-01-02T03:01:55.025003Z",
     "iopub.status.busy": "2023-01-02T03:01:55.024624Z",
     "iopub.status.idle": "2023-01-02T03:01:55.083938Z",
     "shell.execute_reply": "2023-01-02T03:01:55.083200Z"
    },
    "papermill": {
     "duration": 0.071332,
     "end_time": "2023-01-02T03:01:55.085976",
     "exception": false,
     "start_time": "2023-01-02T03:01:55.014644",
     "status": "completed"
    },
    "tags": []
   },
   "outputs": [
    {
     "data": {
      "text/html": [
       "<div>\n",
       "<style scoped>\n",
       "    .dataframe tbody tr th:only-of-type {\n",
       "        vertical-align: middle;\n",
       "    }\n",
       "\n",
       "    .dataframe tbody tr th {\n",
       "        vertical-align: top;\n",
       "    }\n",
       "\n",
       "    .dataframe thead th {\n",
       "        text-align: right;\n",
       "    }\n",
       "</style>\n",
       "<table border=\"1\" class=\"dataframe\">\n",
       "  <thead>\n",
       "    <tr style=\"text-align: right;\">\n",
       "      <th></th>\n",
       "      <th>acousticness</th>\n",
       "      <th>danceability</th>\n",
       "      <th>duration_ms</th>\n",
       "      <th>energy</th>\n",
       "      <th>instrumentalness</th>\n",
       "      <th>key</th>\n",
       "      <th>liveness</th>\n",
       "      <th>loudness</th>\n",
       "      <th>mode</th>\n",
       "      <th>speechiness</th>\n",
       "      <th>tempo</th>\n",
       "      <th>time_signature</th>\n",
       "      <th>valence</th>\n",
       "      <th>target</th>\n",
       "      <th>song_title</th>\n",
       "      <th>artist</th>\n",
       "    </tr>\n",
       "  </thead>\n",
       "  <tbody>\n",
       "    <tr>\n",
       "      <th>count</th>\n",
       "      <td>2017.000000</td>\n",
       "      <td>2017.000000</td>\n",
       "      <td>2.017000e+03</td>\n",
       "      <td>2017.000000</td>\n",
       "      <td>2017.000000</td>\n",
       "      <td>2017.000000</td>\n",
       "      <td>2017.000000</td>\n",
       "      <td>2017.000000</td>\n",
       "      <td>2017.000000</td>\n",
       "      <td>2017.000000</td>\n",
       "      <td>2017.000000</td>\n",
       "      <td>2017.000000</td>\n",
       "      <td>2017.000000</td>\n",
       "      <td>2017.000000</td>\n",
       "      <td>2017</td>\n",
       "      <td>2017</td>\n",
       "    </tr>\n",
       "    <tr>\n",
       "      <th>unique</th>\n",
       "      <td>NaN</td>\n",
       "      <td>NaN</td>\n",
       "      <td>NaN</td>\n",
       "      <td>NaN</td>\n",
       "      <td>NaN</td>\n",
       "      <td>NaN</td>\n",
       "      <td>NaN</td>\n",
       "      <td>NaN</td>\n",
       "      <td>NaN</td>\n",
       "      <td>NaN</td>\n",
       "      <td>NaN</td>\n",
       "      <td>NaN</td>\n",
       "      <td>NaN</td>\n",
       "      <td>NaN</td>\n",
       "      <td>1956</td>\n",
       "      <td>1343</td>\n",
       "    </tr>\n",
       "    <tr>\n",
       "      <th>top</th>\n",
       "      <td>NaN</td>\n",
       "      <td>NaN</td>\n",
       "      <td>NaN</td>\n",
       "      <td>NaN</td>\n",
       "      <td>NaN</td>\n",
       "      <td>NaN</td>\n",
       "      <td>NaN</td>\n",
       "      <td>NaN</td>\n",
       "      <td>NaN</td>\n",
       "      <td>NaN</td>\n",
       "      <td>NaN</td>\n",
       "      <td>NaN</td>\n",
       "      <td>NaN</td>\n",
       "      <td>NaN</td>\n",
       "      <td>River</td>\n",
       "      <td>Drake</td>\n",
       "    </tr>\n",
       "    <tr>\n",
       "      <th>freq</th>\n",
       "      <td>NaN</td>\n",
       "      <td>NaN</td>\n",
       "      <td>NaN</td>\n",
       "      <td>NaN</td>\n",
       "      <td>NaN</td>\n",
       "      <td>NaN</td>\n",
       "      <td>NaN</td>\n",
       "      <td>NaN</td>\n",
       "      <td>NaN</td>\n",
       "      <td>NaN</td>\n",
       "      <td>NaN</td>\n",
       "      <td>NaN</td>\n",
       "      <td>NaN</td>\n",
       "      <td>NaN</td>\n",
       "      <td>3</td>\n",
       "      <td>16</td>\n",
       "    </tr>\n",
       "    <tr>\n",
       "      <th>mean</th>\n",
       "      <td>0.187590</td>\n",
       "      <td>0.618422</td>\n",
       "      <td>2.463062e+05</td>\n",
       "      <td>0.681577</td>\n",
       "      <td>0.133286</td>\n",
       "      <td>5.342588</td>\n",
       "      <td>0.190844</td>\n",
       "      <td>-7.085624</td>\n",
       "      <td>0.612295</td>\n",
       "      <td>0.092664</td>\n",
       "      <td>121.603272</td>\n",
       "      <td>3.968270</td>\n",
       "      <td>0.496815</td>\n",
       "      <td>0.505702</td>\n",
       "      <td>NaN</td>\n",
       "      <td>NaN</td>\n",
       "    </tr>\n",
       "    <tr>\n",
       "      <th>std</th>\n",
       "      <td>0.259989</td>\n",
       "      <td>0.161029</td>\n",
       "      <td>8.198181e+04</td>\n",
       "      <td>0.210273</td>\n",
       "      <td>0.273162</td>\n",
       "      <td>3.648240</td>\n",
       "      <td>0.155453</td>\n",
       "      <td>3.761684</td>\n",
       "      <td>0.487347</td>\n",
       "      <td>0.089931</td>\n",
       "      <td>26.685604</td>\n",
       "      <td>0.255853</td>\n",
       "      <td>0.247195</td>\n",
       "      <td>0.500091</td>\n",
       "      <td>NaN</td>\n",
       "      <td>NaN</td>\n",
       "    </tr>\n",
       "    <tr>\n",
       "      <th>min</th>\n",
       "      <td>0.000003</td>\n",
       "      <td>0.122000</td>\n",
       "      <td>1.604200e+04</td>\n",
       "      <td>0.014800</td>\n",
       "      <td>0.000000</td>\n",
       "      <td>0.000000</td>\n",
       "      <td>0.018800</td>\n",
       "      <td>-33.097000</td>\n",
       "      <td>0.000000</td>\n",
       "      <td>0.023100</td>\n",
       "      <td>47.859000</td>\n",
       "      <td>1.000000</td>\n",
       "      <td>0.034800</td>\n",
       "      <td>0.000000</td>\n",
       "      <td>NaN</td>\n",
       "      <td>NaN</td>\n",
       "    </tr>\n",
       "    <tr>\n",
       "      <th>25%</th>\n",
       "      <td>0.009630</td>\n",
       "      <td>0.514000</td>\n",
       "      <td>2.000150e+05</td>\n",
       "      <td>0.563000</td>\n",
       "      <td>0.000000</td>\n",
       "      <td>2.000000</td>\n",
       "      <td>0.092300</td>\n",
       "      <td>-8.394000</td>\n",
       "      <td>0.000000</td>\n",
       "      <td>0.037500</td>\n",
       "      <td>100.189000</td>\n",
       "      <td>4.000000</td>\n",
       "      <td>0.295000</td>\n",
       "      <td>0.000000</td>\n",
       "      <td>NaN</td>\n",
       "      <td>NaN</td>\n",
       "    </tr>\n",
       "    <tr>\n",
       "      <th>50%</th>\n",
       "      <td>0.063300</td>\n",
       "      <td>0.631000</td>\n",
       "      <td>2.292610e+05</td>\n",
       "      <td>0.715000</td>\n",
       "      <td>0.000076</td>\n",
       "      <td>6.000000</td>\n",
       "      <td>0.127000</td>\n",
       "      <td>-6.248000</td>\n",
       "      <td>1.000000</td>\n",
       "      <td>0.054900</td>\n",
       "      <td>121.427000</td>\n",
       "      <td>4.000000</td>\n",
       "      <td>0.492000</td>\n",
       "      <td>1.000000</td>\n",
       "      <td>NaN</td>\n",
       "      <td>NaN</td>\n",
       "    </tr>\n",
       "    <tr>\n",
       "      <th>75%</th>\n",
       "      <td>0.265000</td>\n",
       "      <td>0.738000</td>\n",
       "      <td>2.703330e+05</td>\n",
       "      <td>0.846000</td>\n",
       "      <td>0.054000</td>\n",
       "      <td>9.000000</td>\n",
       "      <td>0.247000</td>\n",
       "      <td>-4.746000</td>\n",
       "      <td>1.000000</td>\n",
       "      <td>0.108000</td>\n",
       "      <td>137.849000</td>\n",
       "      <td>4.000000</td>\n",
       "      <td>0.691000</td>\n",
       "      <td>1.000000</td>\n",
       "      <td>NaN</td>\n",
       "      <td>NaN</td>\n",
       "    </tr>\n",
       "    <tr>\n",
       "      <th>max</th>\n",
       "      <td>0.995000</td>\n",
       "      <td>0.984000</td>\n",
       "      <td>1.004627e+06</td>\n",
       "      <td>0.998000</td>\n",
       "      <td>0.976000</td>\n",
       "      <td>11.000000</td>\n",
       "      <td>0.969000</td>\n",
       "      <td>-0.307000</td>\n",
       "      <td>1.000000</td>\n",
       "      <td>0.816000</td>\n",
       "      <td>219.331000</td>\n",
       "      <td>5.000000</td>\n",
       "      <td>0.992000</td>\n",
       "      <td>1.000000</td>\n",
       "      <td>NaN</td>\n",
       "      <td>NaN</td>\n",
       "    </tr>\n",
       "  </tbody>\n",
       "</table>\n",
       "</div>"
      ],
      "text/plain": [
       "        acousticness  danceability   duration_ms       energy  \\\n",
       "count    2017.000000   2017.000000  2.017000e+03  2017.000000   \n",
       "unique           NaN           NaN           NaN          NaN   \n",
       "top              NaN           NaN           NaN          NaN   \n",
       "freq             NaN           NaN           NaN          NaN   \n",
       "mean        0.187590      0.618422  2.463062e+05     0.681577   \n",
       "std         0.259989      0.161029  8.198181e+04     0.210273   \n",
       "min         0.000003      0.122000  1.604200e+04     0.014800   \n",
       "25%         0.009630      0.514000  2.000150e+05     0.563000   \n",
       "50%         0.063300      0.631000  2.292610e+05     0.715000   \n",
       "75%         0.265000      0.738000  2.703330e+05     0.846000   \n",
       "max         0.995000      0.984000  1.004627e+06     0.998000   \n",
       "\n",
       "        instrumentalness          key     liveness     loudness         mode  \\\n",
       "count        2017.000000  2017.000000  2017.000000  2017.000000  2017.000000   \n",
       "unique               NaN          NaN          NaN          NaN          NaN   \n",
       "top                  NaN          NaN          NaN          NaN          NaN   \n",
       "freq                 NaN          NaN          NaN          NaN          NaN   \n",
       "mean            0.133286     5.342588     0.190844    -7.085624     0.612295   \n",
       "std             0.273162     3.648240     0.155453     3.761684     0.487347   \n",
       "min             0.000000     0.000000     0.018800   -33.097000     0.000000   \n",
       "25%             0.000000     2.000000     0.092300    -8.394000     0.000000   \n",
       "50%             0.000076     6.000000     0.127000    -6.248000     1.000000   \n",
       "75%             0.054000     9.000000     0.247000    -4.746000     1.000000   \n",
       "max             0.976000    11.000000     0.969000    -0.307000     1.000000   \n",
       "\n",
       "        speechiness        tempo  time_signature      valence       target  \\\n",
       "count   2017.000000  2017.000000     2017.000000  2017.000000  2017.000000   \n",
       "unique          NaN          NaN             NaN          NaN          NaN   \n",
       "top             NaN          NaN             NaN          NaN          NaN   \n",
       "freq            NaN          NaN             NaN          NaN          NaN   \n",
       "mean       0.092664   121.603272        3.968270     0.496815     0.505702   \n",
       "std        0.089931    26.685604        0.255853     0.247195     0.500091   \n",
       "min        0.023100    47.859000        1.000000     0.034800     0.000000   \n",
       "25%        0.037500   100.189000        4.000000     0.295000     0.000000   \n",
       "50%        0.054900   121.427000        4.000000     0.492000     1.000000   \n",
       "75%        0.108000   137.849000        4.000000     0.691000     1.000000   \n",
       "max        0.816000   219.331000        5.000000     0.992000     1.000000   \n",
       "\n",
       "       song_title artist  \n",
       "count        2017   2017  \n",
       "unique       1956   1343  \n",
       "top         River  Drake  \n",
       "freq            3     16  \n",
       "mean          NaN    NaN  \n",
       "std           NaN    NaN  \n",
       "min           NaN    NaN  \n",
       "25%           NaN    NaN  \n",
       "50%           NaN    NaN  \n",
       "75%           NaN    NaN  \n",
       "max           NaN    NaN  "
      ]
     },
     "execution_count": 9,
     "metadata": {},
     "output_type": "execute_result"
    }
   ],
   "source": [
    "spotify_df.describe(include=\"all\")"
   ]
  },
  {
   "cell_type": "code",
   "execution_count": 10,
   "id": "6271bbdc",
   "metadata": {
    "execution": {
     "iopub.execute_input": "2023-01-02T03:01:55.105319Z",
     "iopub.status.busy": "2023-01-02T03:01:55.104415Z",
     "iopub.status.idle": "2023-01-02T03:01:55.112844Z",
     "shell.execute_reply": "2023-01-02T03:01:55.111933Z"
    },
    "papermill": {
     "duration": 0.020335,
     "end_time": "2023-01-02T03:01:55.115089",
     "exception": false,
     "start_time": "2023-01-02T03:01:55.094754",
     "status": "completed"
    },
    "tags": []
   },
   "outputs": [],
   "source": [
    "X = spotify_df.drop([\"target\",\"song_title\",\"artist\"],axis=1)\n",
    "y = spotify_df[\"target\"]\n",
    "X_train, X_test, y_train, y_test = train_test_split(X,y , test_size=0.2, random_state=123)"
   ]
  },
  {
   "cell_type": "code",
   "execution_count": 11,
   "id": "bb93c3c8",
   "metadata": {
    "execution": {
     "iopub.execute_input": "2023-01-02T03:01:55.134025Z",
     "iopub.status.busy": "2023-01-02T03:01:55.132987Z",
     "iopub.status.idle": "2023-01-02T03:01:55.162417Z",
     "shell.execute_reply": "2023-01-02T03:01:55.160383Z"
    },
    "papermill": {
     "duration": 0.04196,
     "end_time": "2023-01-02T03:01:55.165585",
     "exception": false,
     "start_time": "2023-01-02T03:01:55.123625",
     "status": "completed"
    },
    "tags": []
   },
   "outputs": [
    {
     "data": {
      "text/plain": [
       "0.5077524729698643"
      ]
     },
     "execution_count": 11,
     "metadata": {},
     "output_type": "execute_result"
    }
   ],
   "source": [
    "model = cross_validate(DummyClassifier(strategy=\"most_frequent\",random_state=123),X_train,y_train,cv=10)\n",
    "dummy_score = np.mean(model['test_score'])\n",
    "dummy_score"
   ]
  },
  {
   "cell_type": "code",
   "execution_count": 12,
   "id": "70fe3ee0",
   "metadata": {
    "execution": {
     "iopub.execute_input": "2023-01-02T03:01:55.187253Z",
     "iopub.status.busy": "2023-01-02T03:01:55.186312Z",
     "iopub.status.idle": "2023-01-02T03:01:55.191384Z",
     "shell.execute_reply": "2023-01-02T03:01:55.190618Z"
    },
    "papermill": {
     "duration": 0.01798,
     "end_time": "2023-01-02T03:01:55.193818",
     "exception": false,
     "start_time": "2023-01-02T03:01:55.175838",
     "status": "completed"
    },
    "tags": []
   },
   "outputs": [],
   "source": [
    "spotify_tree = DecisionTreeClassifier(random_state=123)"
   ]
  },
  {
   "cell_type": "code",
   "execution_count": 13,
   "id": "63d86c75",
   "metadata": {
    "execution": {
     "iopub.execute_input": "2023-01-02T03:01:55.220574Z",
     "iopub.status.busy": "2023-01-02T03:01:55.219909Z",
     "iopub.status.idle": "2023-01-02T03:01:55.467939Z",
     "shell.execute_reply": "2023-01-02T03:01:55.466837Z"
    },
    "papermill": {
     "duration": 0.264335,
     "end_time": "2023-01-02T03:01:55.470647",
     "exception": false,
     "start_time": "2023-01-02T03:01:55.206312",
     "status": "completed"
    },
    "tags": []
   },
   "outputs": [
    {
     "data": {
      "text/html": [
       "<div>\n",
       "<style scoped>\n",
       "    .dataframe tbody tr th:only-of-type {\n",
       "        vertical-align: middle;\n",
       "    }\n",
       "\n",
       "    .dataframe tbody tr th {\n",
       "        vertical-align: top;\n",
       "    }\n",
       "\n",
       "    .dataframe thead th {\n",
       "        text-align: right;\n",
       "    }\n",
       "</style>\n",
       "<table border=\"1\" class=\"dataframe\">\n",
       "  <thead>\n",
       "    <tr style=\"text-align: right;\">\n",
       "      <th></th>\n",
       "      <th>fit_time</th>\n",
       "      <th>score_time</th>\n",
       "      <th>test_score</th>\n",
       "      <th>train_score</th>\n",
       "    </tr>\n",
       "  </thead>\n",
       "  <tbody>\n",
       "    <tr>\n",
       "      <th>0</th>\n",
       "      <td>0.023075</td>\n",
       "      <td>0.003155</td>\n",
       "      <td>0.722222</td>\n",
       "      <td>0.999311</td>\n",
       "    </tr>\n",
       "    <tr>\n",
       "      <th>1</th>\n",
       "      <td>0.017952</td>\n",
       "      <td>0.002678</td>\n",
       "      <td>0.660494</td>\n",
       "      <td>1.000000</td>\n",
       "    </tr>\n",
       "    <tr>\n",
       "      <th>2</th>\n",
       "      <td>0.017778</td>\n",
       "      <td>0.002072</td>\n",
       "      <td>0.660494</td>\n",
       "      <td>0.999311</td>\n",
       "    </tr>\n",
       "    <tr>\n",
       "      <th>3</th>\n",
       "      <td>0.018121</td>\n",
       "      <td>0.001818</td>\n",
       "      <td>0.677019</td>\n",
       "      <td>1.000000</td>\n",
       "    </tr>\n",
       "    <tr>\n",
       "      <th>4</th>\n",
       "      <td>0.017066</td>\n",
       "      <td>0.001990</td>\n",
       "      <td>0.695652</td>\n",
       "      <td>0.999311</td>\n",
       "    </tr>\n",
       "    <tr>\n",
       "      <th>5</th>\n",
       "      <td>0.017588</td>\n",
       "      <td>0.001869</td>\n",
       "      <td>0.652174</td>\n",
       "      <td>0.999311</td>\n",
       "    </tr>\n",
       "    <tr>\n",
       "      <th>6</th>\n",
       "      <td>0.017127</td>\n",
       "      <td>0.001895</td>\n",
       "      <td>0.658385</td>\n",
       "      <td>0.999311</td>\n",
       "    </tr>\n",
       "    <tr>\n",
       "      <th>7</th>\n",
       "      <td>0.018436</td>\n",
       "      <td>0.001908</td>\n",
       "      <td>0.608696</td>\n",
       "      <td>0.999311</td>\n",
       "    </tr>\n",
       "    <tr>\n",
       "      <th>8</th>\n",
       "      <td>0.018053</td>\n",
       "      <td>0.001988</td>\n",
       "      <td>0.683230</td>\n",
       "      <td>0.999311</td>\n",
       "    </tr>\n",
       "    <tr>\n",
       "      <th>9</th>\n",
       "      <td>0.018078</td>\n",
       "      <td>0.002267</td>\n",
       "      <td>0.695652</td>\n",
       "      <td>0.999311</td>\n",
       "    </tr>\n",
       "  </tbody>\n",
       "</table>\n",
       "</div>"
      ],
      "text/plain": [
       "   fit_time  score_time  test_score  train_score\n",
       "0  0.023075    0.003155    0.722222     0.999311\n",
       "1  0.017952    0.002678    0.660494     1.000000\n",
       "2  0.017778    0.002072    0.660494     0.999311\n",
       "3  0.018121    0.001818    0.677019     1.000000\n",
       "4  0.017066    0.001990    0.695652     0.999311\n",
       "5  0.017588    0.001869    0.652174     0.999311\n",
       "6  0.017127    0.001895    0.658385     0.999311\n",
       "7  0.018436    0.001908    0.608696     0.999311\n",
       "8  0.018053    0.001988    0.683230     0.999311\n",
       "9  0.018078    0.002267    0.695652     0.999311"
      ]
     },
     "execution_count": 13,
     "metadata": {},
     "output_type": "execute_result"
    }
   ],
   "source": [
    "dt_scores_df = pd.DataFrame(cross_validate(spotify_tree,X_train,y_train,cv=10,return_train_score=True))\n",
    "dt_scores_df"
   ]
  },
  {
   "cell_type": "code",
   "execution_count": 14,
   "id": "e15917f3",
   "metadata": {
    "execution": {
     "iopub.execute_input": "2023-01-02T03:01:55.490524Z",
     "iopub.status.busy": "2023-01-02T03:01:55.490089Z",
     "iopub.status.idle": "2023-01-02T03:01:55.496822Z",
     "shell.execute_reply": "2023-01-02T03:01:55.495692Z"
    },
    "papermill": {
     "duration": 0.019544,
     "end_time": "2023-01-02T03:01:55.499405",
     "exception": false,
     "start_time": "2023-01-02T03:01:55.479861",
     "status": "completed"
    },
    "tags": []
   },
   "outputs": [
    {
     "name": "stdout",
     "output_type": "stream",
     "text": [
      "0.6714017329959358\n",
      "0.9994489408843148\n"
     ]
    }
   ],
   "source": [
    "print(dt_scores_df.test_score.mean())\n",
    "print(dt_scores_df.train_score.mean())"
   ]
  },
  {
   "cell_type": "code",
   "execution_count": 15,
   "id": "268a1535",
   "metadata": {
    "execution": {
     "iopub.execute_input": "2023-01-02T03:01:55.518709Z",
     "iopub.status.busy": "2023-01-02T03:01:55.517825Z",
     "iopub.status.idle": "2023-01-02T03:01:55.523938Z",
     "shell.execute_reply": "2023-01-02T03:01:55.522938Z"
    },
    "papermill": {
     "duration": 0.018171,
     "end_time": "2023-01-02T03:01:55.526396",
     "exception": false,
     "start_time": "2023-01-02T03:01:55.508225",
     "status": "completed"
    },
    "tags": []
   },
   "outputs": [
    {
     "data": {
      "text/plain": [
       "array([ 1,  3,  5,  7,  9, 11, 13, 15, 17, 19, 21, 23])"
      ]
     },
     "execution_count": 15,
     "metadata": {},
     "output_type": "execute_result"
    }
   ],
   "source": [
    "depths = np.arange(1, 25, 2)\n",
    "depths"
   ]
  },
  {
   "cell_type": "code",
   "execution_count": 16,
   "id": "e384e9f8",
   "metadata": {
    "execution": {
     "iopub.execute_input": "2023-01-02T03:01:55.546070Z",
     "iopub.status.busy": "2023-01-02T03:01:55.545115Z",
     "iopub.status.idle": "2023-01-02T03:01:58.021580Z",
     "shell.execute_reply": "2023-01-02T03:01:58.020417Z"
    },
    "papermill": {
     "duration": 2.489309,
     "end_time": "2023-01-02T03:01:58.024636",
     "exception": false,
     "start_time": "2023-01-02T03:01:55.535327",
     "status": "completed"
    },
    "tags": []
   },
   "outputs": [
    {
     "data": {
      "image/png": "[encoded data removed]",
      "text/plain": [
       "<Figure size 432x288 with 1 Axes>"
      ]
     },
     "metadata": {
      "needs_background": "light"
     },
     "output_type": "display_data"
    }
   ],
   "source": [
    "# max_depth_plot: the figure plotted for this exercise\n",
    "results_dict = {\n",
    "    \"depth\": [],\n",
    "    \"mean_train_score\": [],\n",
    "    \"mean_cv\": [],\n",
    "}\n",
    "\n",
    "for depth in depths:\n",
    "    model = DecisionTreeClassifier(max_depth=depth,random_state=123)\n",
    "    scores = cross_validate(model, X_train, y_train, cv=10, return_train_score=True)\n",
    "    results_dict[\"depth\"].append(depth)\n",
    "    results_dict[\"mean_cv\"].append(np.mean(scores[\"test_score\"]))\n",
    "    results_dict[\"mean_train_score\"].append(np.mean(scores[\"train_score\"]))\n",
    "\n",
    "results_df = pd.DataFrame(results_dict)\n",
    "results_df = results_df.set_index(\"depth\")\n",
    "\n",
    "max_depth_plot = results_df[[\"mean_train_score\", \"mean_cv\"]].plot(title=\"max_depth vs. accuracy\", ylabel=\"Accuracy\");"
   ]
  },
  {
   "cell_type": "code",
   "execution_count": 17,
   "id": "3916c533",
   "metadata": {
    "execution": {
     "iopub.execute_input": "2023-01-02T03:01:58.047823Z",
     "iopub.status.busy": "2023-01-02T03:01:58.047461Z",
     "iopub.status.idle": "2023-01-02T03:01:58.053747Z",
     "shell.execute_reply": "2023-01-02T03:01:58.052975Z"
    },
    "papermill": {
     "duration": 0.019178,
     "end_time": "2023-01-02T03:01:58.055628",
     "exception": false,
     "start_time": "2023-01-02T03:01:58.036450",
     "status": "completed"
    },
    "tags": []
   },
   "outputs": [
    {
     "data": {
      "text/plain": [
       "5"
      ]
     },
     "execution_count": 17,
     "metadata": {},
     "output_type": "execute_result"
    }
   ],
   "source": [
    "best_max_depth = results_dict['depth'][np.argmax(results_dict[\"mean_cv\"])]\n",
    "# results_dict\n",
    "best_max_depth"
   ]
  },
  {
   "cell_type": "code",
   "execution_count": 18,
   "id": "0194f4a2",
   "metadata": {
    "execution": {
     "iopub.execute_input": "2023-01-02T03:01:58.076993Z",
     "iopub.status.busy": "2023-01-02T03:01:58.076343Z",
     "iopub.status.idle": "2023-01-02T03:01:58.097584Z",
     "shell.execute_reply": "2023-01-02T03:01:58.096512Z"
    },
    "papermill": {
     "duration": 0.034626,
     "end_time": "2023-01-02T03:01:58.100074",
     "exception": false,
     "start_time": "2023-01-02T03:01:58.065448",
     "status": "completed"
    },
    "tags": []
   },
   "outputs": [
    {
     "data": {
      "text/plain": [
       "0.7178217821782178"
      ]
     },
     "execution_count": 18,
     "metadata": {},
     "output_type": "execute_result"
    }
   ],
   "source": [
    "best_model = DecisionTreeClassifier(max_depth=best_max_depth,random_state=123)\n",
    "best_model.fit( X_train, y_train)\n",
    "test_score = best_model.score(X_test, y_test)\n",
    "test_score"
   ]
  },
  {
   "cell_type": "code",
   "execution_count": 19,
   "id": "f33958f2",
   "metadata": {
    "execution": {
     "iopub.execute_input": "2023-01-02T03:01:58.121038Z",
     "iopub.status.busy": "2023-01-02T03:01:58.120666Z",
     "iopub.status.idle": "2023-01-02T03:01:58.131943Z",
     "shell.execute_reply": "2023-01-02T03:01:58.130881Z"
    },
    "papermill": {
     "duration": 0.024358,
     "end_time": "2023-01-02T03:01:58.134100",
     "exception": false,
     "start_time": "2023-01-02T03:01:58.109742",
     "status": "completed"
    },
    "tags": []
   },
   "outputs": [
    {
     "data": {
      "text/html": [
       "<div>\n",
       "<style scoped>\n",
       "    .dataframe tbody tr th:only-of-type {\n",
       "        vertical-align: middle;\n",
       "    }\n",
       "\n",
       "    .dataframe tbody tr th {\n",
       "        vertical-align: top;\n",
       "    }\n",
       "\n",
       "    .dataframe thead th {\n",
       "        text-align: right;\n",
       "    }\n",
       "</style>\n",
       "<table border=\"1\" class=\"dataframe\">\n",
       "  <thead>\n",
       "    <tr style=\"text-align: right;\">\n",
       "      <th></th>\n",
       "      <th>mean_train_score</th>\n",
       "      <th>mean_cv</th>\n",
       "    </tr>\n",
       "    <tr>\n",
       "      <th>depth</th>\n",
       "      <th></th>\n",
       "      <th></th>\n",
       "    </tr>\n",
       "  </thead>\n",
       "  <tbody>\n",
       "    <tr>\n",
       "      <th>1</th>\n",
       "      <td>0.650686</td>\n",
       "      <td>0.642926</td>\n",
       "    </tr>\n",
       "    <tr>\n",
       "      <th>3</th>\n",
       "      <td>0.732797</td>\n",
       "      <td>0.693766</td>\n",
       "    </tr>\n",
       "    <tr>\n",
       "      <th>5</th>\n",
       "      <td>0.793346</td>\n",
       "      <td>0.711705</td>\n",
       "    </tr>\n",
       "    <tr>\n",
       "      <th>7</th>\n",
       "      <td>0.861749</td>\n",
       "      <td>0.701791</td>\n",
       "    </tr>\n",
       "    <tr>\n",
       "      <th>9</th>\n",
       "      <td>0.917614</td>\n",
       "      <td>0.687505</td>\n",
       "    </tr>\n",
       "    <tr>\n",
       "      <th>11</th>\n",
       "      <td>0.958050</td>\n",
       "      <td>0.681294</td>\n",
       "    </tr>\n",
       "    <tr>\n",
       "      <th>13</th>\n",
       "      <td>0.981952</td>\n",
       "      <td>0.668273</td>\n",
       "    </tr>\n",
       "    <tr>\n",
       "      <th>15</th>\n",
       "      <td>0.994214</td>\n",
       "      <td>0.663323</td>\n",
       "    </tr>\n",
       "    <tr>\n",
       "      <th>17</th>\n",
       "      <td>0.998209</td>\n",
       "      <td>0.672632</td>\n",
       "    </tr>\n",
       "    <tr>\n",
       "      <th>19</th>\n",
       "      <td>0.999173</td>\n",
       "      <td>0.673886</td>\n",
       "    </tr>\n",
       "    <tr>\n",
       "      <th>21</th>\n",
       "      <td>0.999449</td>\n",
       "      <td>0.671402</td>\n",
       "    </tr>\n",
       "    <tr>\n",
       "      <th>23</th>\n",
       "      <td>0.999449</td>\n",
       "      <td>0.671402</td>\n",
       "    </tr>\n",
       "  </tbody>\n",
       "</table>\n",
       "</div>"
      ],
      "text/plain": [
       "       mean_train_score   mean_cv\n",
       "depth                            \n",
       "1              0.650686  0.642926\n",
       "3              0.732797  0.693766\n",
       "5              0.793346  0.711705\n",
       "7              0.861749  0.701791\n",
       "9              0.917614  0.687505\n",
       "11             0.958050  0.681294\n",
       "13             0.981952  0.668273\n",
       "15             0.994214  0.663323\n",
       "17             0.998209  0.672632\n",
       "19             0.999173  0.673886\n",
       "21             0.999449  0.671402\n",
       "23             0.999449  0.671402"
      ]
     },
     "execution_count": 19,
     "metadata": {},
     "output_type": "execute_result"
    }
   ],
   "source": [
    "results_df"
   ]
  },
  {
   "cell_type": "code",
   "execution_count": 20,
   "id": "cdb1091f",
   "metadata": {
    "execution": {
     "iopub.execute_input": "2023-01-02T03:01:58.155004Z",
     "iopub.status.busy": "2023-01-02T03:01:58.154609Z",
     "iopub.status.idle": "2023-01-02T03:01:58.188873Z",
     "shell.execute_reply": "2023-01-02T03:01:58.187850Z"
    },
    "papermill": {
     "duration": 0.047176,
     "end_time": "2023-01-02T03:01:58.191074",
     "exception": false,
     "start_time": "2023-01-02T03:01:58.143898",
     "status": "completed"
    },
    "tags": []
   },
   "outputs": [
    {
     "data": {
      "text/plain": [
       "0.6881188118811881"
      ]
     },
     "execution_count": 20,
     "metadata": {},
     "output_type": "execute_result"
    }
   ],
   "source": [
    "# spotify_df = pd.read_csv(\"data\\spotify.csv\",index_col=None)\n",
    "X = spotify_df.drop([\"target\",\"song_title\",\"artist\"],axis=1)\n",
    "y = spotify_df[\"target\"]\n",
    "X_train, X_test, y_train, y_test = train_test_split(X,y , test_size=0.2, random_state=123)\n",
    "spotify_tree = DecisionTreeClassifier(random_state=123)\n",
    "spotify_tree.fit( X_train, y_train)\n",
    "test_score = spotify_tree.score(X_test, y_test)\n",
    "test_score"
   ]
  },
  {
   "cell_type": "code",
   "execution_count": 21,
   "id": "74b1415f",
   "metadata": {
    "execution": {
     "iopub.execute_input": "2023-01-02T03:01:58.212156Z",
     "iopub.status.busy": "2023-01-02T03:01:58.211819Z",
     "iopub.status.idle": "2023-01-02T03:01:58.221055Z",
     "shell.execute_reply": "2023-01-02T03:01:58.220088Z"
    },
    "papermill": {
     "duration": 0.022288,
     "end_time": "2023-01-02T03:01:58.223056",
     "exception": false,
     "start_time": "2023-01-02T03:01:58.200768",
     "status": "completed"
    },
    "tags": []
   },
   "outputs": [
    {
     "data": {
      "text/plain": [
       "0.9993800371977681"
      ]
     },
     "execution_count": 21,
     "metadata": {},
     "output_type": "execute_result"
    }
   ],
   "source": [
    "train_score = spotify_tree.score(X_train, y_train)\n",
    "train_score"
   ]
  },
  {
   "cell_type": "code",
   "execution_count": 22,
   "id": "556472b7",
   "metadata": {
    "execution": {
     "iopub.execute_input": "2023-01-02T03:01:58.244242Z",
     "iopub.status.busy": "2023-01-02T03:01:58.243803Z",
     "iopub.status.idle": "2023-01-02T03:01:58.257148Z",
     "shell.execute_reply": "2023-01-02T03:01:58.256069Z"
    },
    "papermill": {
     "duration": 0.026681,
     "end_time": "2023-01-02T03:01:58.259432",
     "exception": false,
     "start_time": "2023-01-02T03:01:58.232751",
     "status": "completed"
    },
    "tags": []
   },
   "outputs": [
    {
     "data": {
      "text/html": [
       "<div>\n",
       "<style scoped>\n",
       "    .dataframe tbody tr th:only-of-type {\n",
       "        vertical-align: middle;\n",
       "    }\n",
       "\n",
       "    .dataframe tbody tr th {\n",
       "        vertical-align: top;\n",
       "    }\n",
       "\n",
       "    .dataframe thead th {\n",
       "        text-align: right;\n",
       "    }\n",
       "</style>\n",
       "<table border=\"1\" class=\"dataframe\">\n",
       "  <thead>\n",
       "    <tr style=\"text-align: right;\">\n",
       "      <th></th>\n",
       "      <th>0</th>\n",
       "    </tr>\n",
       "  </thead>\n",
       "  <tbody>\n",
       "    <tr>\n",
       "      <th>instrumentalness</th>\n",
       "      <td>0.266902</td>\n",
       "    </tr>\n",
       "    <tr>\n",
       "      <th>energy</th>\n",
       "      <td>0.168273</td>\n",
       "    </tr>\n",
       "    <tr>\n",
       "      <th>speechiness</th>\n",
       "      <td>0.127575</td>\n",
       "    </tr>\n",
       "    <tr>\n",
       "      <th>loudness</th>\n",
       "      <td>0.118149</td>\n",
       "    </tr>\n",
       "    <tr>\n",
       "      <th>danceability</th>\n",
       "      <td>0.113310</td>\n",
       "    </tr>\n",
       "    <tr>\n",
       "      <th>valence</th>\n",
       "      <td>0.082457</td>\n",
       "    </tr>\n",
       "    <tr>\n",
       "      <th>acousticness</th>\n",
       "      <td>0.050967</td>\n",
       "    </tr>\n",
       "    <tr>\n",
       "      <th>duration_ms</th>\n",
       "      <td>0.049663</td>\n",
       "    </tr>\n",
       "    <tr>\n",
       "      <th>tempo</th>\n",
       "      <td>0.022705</td>\n",
       "    </tr>\n",
       "    <tr>\n",
       "      <th>key</th>\n",
       "      <td>0.000000</td>\n",
       "    </tr>\n",
       "    <tr>\n",
       "      <th>liveness</th>\n",
       "      <td>0.000000</td>\n",
       "    </tr>\n",
       "    <tr>\n",
       "      <th>mode</th>\n",
       "      <td>0.000000</td>\n",
       "    </tr>\n",
       "    <tr>\n",
       "      <th>time_signature</th>\n",
       "      <td>0.000000</td>\n",
       "    </tr>\n",
       "  </tbody>\n",
       "</table>\n",
       "</div>"
      ],
      "text/plain": [
       "                         0\n",
       "instrumentalness  0.266902\n",
       "energy            0.168273\n",
       "speechiness       0.127575\n",
       "loudness          0.118149\n",
       "danceability      0.113310\n",
       "valence           0.082457\n",
       "acousticness      0.050967\n",
       "duration_ms       0.049663\n",
       "tempo             0.022705\n",
       "key               0.000000\n",
       "liveness          0.000000\n",
       "mode              0.000000\n",
       "time_signature    0.000000"
      ]
     },
     "execution_count": 22,
     "metadata": {},
     "output_type": "execute_result"
    }
   ],
   "source": [
    "feature_importance_df=pd.DataFrame(list(best_model.feature_importances_),\n",
    "list([best_model.feature_names_in_]))\n",
    "feature_importance_df.sort_values(0,ascending=False)"
   ]
  }
 ],
 "metadata": {
  "kernelspec": {
   "display_name": "Python 3",
   "language": "python",
   "name": "python3"
  },
  "language_info": {
   "codemirror_mode": {
    "name": "ipython",
    "version": 3
   },
   "file_extension": ".py",
   "mimetype": "text/x-python",
   "name": "python",
   "nbconvert_exporter": "python",
   "pygments_lexer": "ipython3",
   "version": "3.7.12"
  },
  "papermill": {
   "default_parameters": {},
   "duration": 16.044029,
   "end_time": "2023-01-02T03:01:58.992074",
   "environment_variables": {},
   "exception": null,
   "input_path": "__notebook__.ipynb",
   "output_path": "__notebook__.ipynb",
   "parameters": {},
   "start_time": "2023-01-02T03:01:42.948045",
   "version": "2.3.4"
  }
 },
 "nbformat": 4,
 "nbformat_minor": 5
}
